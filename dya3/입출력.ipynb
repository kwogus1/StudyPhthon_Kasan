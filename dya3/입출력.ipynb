{
 "cells": [
  {
   "cell_type": "markdown",
   "metadata": {},
   "source": [
    "## 입출력, 파일입출력\n",
    "1. 화면 입출력"
   ]
  },
  {
   "cell_type": "code",
   "execution_count": 6,
   "metadata": {},
   "outputs": [
    {
     "name": "stdout",
     "output_type": "stream",
     "text": [
      "5\n"
     ]
    }
   ],
   "source": [
    "# 기본 화면 입출력\n",
    "a = input('원하는 숫자를 입력하세요 : ')\n",
    "print(a)"
   ]
  },
  {
   "cell_type": "code",
   "execution_count": 8,
   "metadata": {},
   "outputs": [
    {
     "data": {
      "text/plain": [
       "'5'"
      ]
     },
     "execution_count": 8,
     "metadata": {},
     "output_type": "execute_result"
    }
   ],
   "source": [
    "a = input('원하는 숫자를 입력하세요 : ') #,출력이 아님\n",
    "a "
   ]
  },
  {
   "cell_type": "code",
   "execution_count": 12,
   "metadata": {},
   "outputs": [
    {
     "ename": "ValueError",
     "evalue": "invalid literal for int() with base 10: '오'",
     "output_type": "error",
     "traceback": [
      "\u001b[1;31m---------------------------------------------------------------------------\u001b[0m",
      "\u001b[1;31mValueError\u001b[0m                                Traceback (most recent call last)",
      "\u001b[1;32mc:\\Repository\\StudyPhthon_Kasan\\dya3\\입출력.ipynb Cell 4'\u001b[0m in \u001b[0;36m<cell line: 2>\u001b[1;34m()\u001b[0m\n\u001b[0;32m      <a href='vscode-notebook-cell:/c%3A/Repository/StudyPhthon_Kasan/dya3/%EC%9E%85%EC%B6%9C%EB%A0%A5.ipynb#ch0000003?line=0'>1</a>\u001b[0m a \u001b[39m=\u001b[39m \u001b[39minput\u001b[39m(\u001b[39m'\u001b[39m\u001b[39m원하는 숫자를 입력하세요 : \u001b[39m\u001b[39m'\u001b[39m) \u001b[39m# 문자는 예외처리해야함, \u001b[39;00m\n\u001b[1;32m----> <a href='vscode-notebook-cell:/c%3A/Repository/StudyPhthon_Kasan/dya3/%EC%9E%85%EC%B6%9C%EB%A0%A5.ipynb#ch0000003?line=1'>2</a>\u001b[0m a \u001b[39m=\u001b[39m \u001b[39mint\u001b[39;49m(a)\n\u001b[0;32m      <a href='vscode-notebook-cell:/c%3A/Repository/StudyPhthon_Kasan/dya3/%EC%9E%85%EC%B6%9C%EB%A0%A5.ipynb#ch0000003?line=2'>3</a>\u001b[0m a \u001b[39m+\u001b[39m \u001b[39m4\u001b[39m\n",
      "\u001b[1;31mValueError\u001b[0m: invalid literal for int() with base 10: '오'"
     ]
    }
   ],
   "source": [
    "a = input('원하는 숫자를 입력하세요 : ') # 문자는 예외처리해야함, \n",
    "a = int(a)\n",
    "a + 4"
   ]
  },
  {
   "cell_type": "code",
   "execution_count": 18,
   "metadata": {},
   "outputs": [
    {
     "name": "stdout",
     "output_type": "stream",
     "text": [
      "Life is short, You need Python\n",
      "108\n",
      "[0, 1, 2, 3, 4, 5, 6, 7, 8, 9, 10, 11, 12, 13, 14, 15, 16, 17, 18, 19, 20, 21, 22, 23, 24, 25, 26, 27, 28, 29, 30, 31, 32, 33, 34]\n",
      "Lifeisshort\n",
      "Life is short\n",
      "Life is short\n",
      "Life is short\n"
     ]
    }
   ],
   "source": [
    "# 기본 화면 출력\n",
    "b = 'Life is short, You need Python'\n",
    "print(b)\n",
    "b = 108\n",
    "print(b)\n",
    "b = [i for i in range(0, 35)]\n",
    "print(b)\n",
    "\n",
    "print('Life' 'is' 'short')\n",
    "print(\"Life\" \" is\" \" short\") # 거의 사용안함\n",
    "\n",
    "print('Life' + ' is' + ' short') # 문자열 결합(concatnate) + 연산자 \n",
    "print('Life', 'is', 'short')\n"
   ]
  },
  {
   "cell_type": "code",
   "execution_count": 20,
   "metadata": {},
   "outputs": [
    {
     "name": "stdout",
     "output_type": "stream",
     "text": [
      "1 2 3 4 "
     ]
    }
   ],
   "source": [
    "a = [1,2,3,4]\n",
    "for i in a :\n",
    "    print(i, end=' ')"
   ]
  },
  {
   "cell_type": "code",
   "execution_count": 25,
   "metadata": {},
   "outputs": [
    {
     "name": "stdout",
     "output_type": "stream",
     "text": [
      "hello\n",
      "frined\n"
     ]
    }
   ],
   "source": [
    "# 다중값 입력\n",
    "(x, y) = input('두개의 영어 단어를 입력하세요'). split() # 세개 단어 입력은 예외처리해야함\n",
    "print(x)\n",
    "print(y)\n"
   ]
  },
  {
   "cell_type": "code",
   "execution_count": 28,
   "metadata": {},
   "outputs": [
    {
     "name": "stdout",
     "output_type": "stream",
     "text": [
      "40\n",
      "104\n"
     ]
    }
   ],
   "source": [
    "(x, y) = input('두개의 정수를 입력하세요(구분자 ,)'). split(',')\n",
    "print(int(x) * int(y))\n",
    "print(x + y) #"
   ]
  },
  {
   "cell_type": "code",
   "execution_count": 39,
   "metadata": {},
   "outputs": [
    {
     "name": "stdout",
     "output_type": "stream",
     "text": [
      "hello\n",
      "world\n",
      "\tHi~\"Wow\" ' \t \\ \fBlaw Bla \n",
      "wefw\u0007\n"
     ]
    }
   ],
   "source": [
    "# Escape Character(탈출문자 = 특수문자)\n",
    "test_str = \"hello\\nworld\\n\\tHi~!\\b\\\"Wow\\\" \\' \\t \\\\ \\fBlaw Bla \\r\\nwefw\\a\"\n",
    "print(test_str)"
   ]
  },
  {
   "cell_type": "code",
   "execution_count": 55,
   "metadata": {},
   "outputs": [
    {
     "name": "stdout",
     "output_type": "stream",
     "text": [
      "저는 김재현 이고    20대 후반입니다.\n",
      "저는 김재현 이고    20대 후반입니다.\n",
      "저는 김재현 이고    20대 후반입니다.\n"
     ]
    }
   ],
   "source": [
    "# 문자열 포맷팅\n",
    "# 구시대방법\n",
    "print('%s는 %s 이고 %5d대 %s입니다.'%('저','김재현',20,'후반'))\n",
    "# 신식방법 1\n",
    "print('{0}는 {1} 이고 {2:>5}대 {3}입니다.'.format('저','김재현',20,'후반'))\n",
    "# python 3.6부터 변경된 방법, 추천방법!\n",
    "print(f'{\"저\"}는 {\"김재현\"} 이고 {20:>5}대 {\"후반\"}입니다.')\n"
   ]
  },
  {
   "cell_type": "markdown",
   "metadata": {},
   "source": [
    "2. 파일 입출력"
   ]
  },
  {
   "cell_type": "code",
   "execution_count": 54,
   "metadata": {},
   "outputs": [],
   "source": [
    "# 파일 출력\n",
    "file = open('sample.txt', mode='w', encoding='utf-8') # 파일열기 #utf-8은 \n",
    "#\n",
    "file.write('안녕하세요. 파이썬 학습중입니다.')\n",
    "file.close() # 파일닫기"
   ]
  }
 ],
 "metadata": {
  "interpreter": {
   "hash": "26de051ba29f2982a8de78e945f0abaf191376122a1563185a90213a26c5da77"
  },
  "kernelspec": {
   "display_name": "Python 3.10.4 64-bit",
   "language": "python",
   "name": "python3"
  },
  "language_info": {
   "codemirror_mode": {
    "name": "ipython",
    "version": 3
   },
   "file_extension": ".py",
   "mimetype": "text/x-python",
   "name": "python",
   "nbconvert_exporter": "python",
   "pygments_lexer": "ipython3",
   "version": "3.10.4"
  },
  "orig_nbformat": 4
 },
 "nbformat": 4,
 "nbformat_minor": 2
}
