{
 "cells": [
  {
   "cell_type": "markdown",
   "metadata": {},
   "source": [
    "## 연산자 학습\n",
    "1. 숫자 연산"
   ]
  },
  {
   "cell_type": "code",
   "execution_count": 6,
   "metadata": {},
   "outputs": [
    {
     "name": "stdout",
     "output_type": "stream",
     "text": [
      "15\n",
      "7\n",
      "44\n",
      "2.75\n",
      "2\n",
      "3\n"
     ]
    }
   ],
   "source": [
    "# 연산자\n",
    "a = 11; b = 4\n",
    "\n",
    "print(a + b)\n",
    "print(a - b)\n",
    "print(a * b)\n",
    "print(a / b)\n",
    "print(a // b) # 소수점 제거, 정수값\n",
    "print(a % b) # 나머지값\n"
   ]
  },
  {
   "cell_type": "code",
   "execution_count": 9,
   "metadata": {},
   "outputs": [
    {
     "name": "stdout",
     "output_type": "stream",
     "text": [
      "14641\n",
      "14641\n"
     ]
    }
   ],
   "source": [
    "print(a ** b) # 11의 4승\n",
    "print(11 * 11 * 11 * 11)"
   ]
  },
  {
   "cell_type": "code",
   "execution_count": 11,
   "metadata": {},
   "outputs": [
    {
     "ename": "ZeroDivisionError",
     "evalue": "division by zero",
     "output_type": "error",
     "traceback": [
      "\u001b[1;31m---------------------------------------------------------------------------\u001b[0m",
      "\u001b[1;31mZeroDivisionError\u001b[0m                         Traceback (most recent call last)",
      "\u001b[1;32mc:\\Repository\\StudyPhthon_Kasan\\day1\\연산자.ipynb Cell 5'\u001b[0m in \u001b[0;36m<cell line: 3>\u001b[1;34m()\u001b[0m\n\u001b[0;32m      <a href='vscode-notebook-cell:/c%3A/Repository/StudyPhthon_Kasan/day1/%EC%97%B0%EC%82%B0%EC%9E%90.ipynb#ch0000005?line=0'>1</a>\u001b[0m \u001b[39m# 경고!(예외처리) /오타는 error\u001b[39;00m\n\u001b[0;32m      <a href='vscode-notebook-cell:/c%3A/Repository/StudyPhthon_Kasan/day1/%EC%97%B0%EC%82%B0%EC%9E%90.ipynb#ch0000005?line=1'>2</a>\u001b[0m c \u001b[39m=\u001b[39m \u001b[39m0\u001b[39m\n\u001b[1;32m----> <a href='vscode-notebook-cell:/c%3A/Repository/StudyPhthon_Kasan/day1/%EC%97%B0%EC%82%B0%EC%9E%90.ipynb#ch0000005?line=2'>3</a>\u001b[0m \u001b[39mprint\u001b[39m(a \u001b[39m/\u001b[39;49m c)\n",
      "\u001b[1;31mZeroDivisionError\u001b[0m: division by zero"
     ]
    }
   ],
   "source": [
    "# 경고 예외 발생!(예외처리) /오타는 error\n",
    "c = 0\n",
    "print(a / c) # 어떤 수를 0으로 나눌  수 없음 "
   ]
  },
  {
   "cell_type": "markdown",
   "metadata": {},
   "source": [
    "2. 문자열 연산"
   ]
  },
  {
   "cell_type": "code",
   "execution_count": 19,
   "metadata": {},
   "outputs": [
    {
     "name": "stdout",
     "output_type": "stream",
     "text": [
      "Hello, World\n",
      "WorldWorldWorldWorldWorld\n"
     ]
    }
   ],
   "source": [
    "#문자열 연산 +, *\n",
    "first = 'Hello,'\n",
    "second = 'World'\n",
    "print(first + ' ' + second)\n",
    "\n",
    "print(second * 5)\n",
    "# print(first - second)\n",
    "# print(first / 2)"
   ]
  },
  {
   "cell_type": "code",
   "execution_count": 26,
   "metadata": {},
   "outputs": [
    {
     "name": "stdout",
     "output_type": "stream",
     "text": [
      "6\n",
      "H\n",
      "e\n",
      "l\n",
      "l\n",
      "o\n"
     ]
    }
   ],
   "source": [
    "## 문자열\n",
    "print(len(first))\n",
    "print(first[0])\n",
    "print(first[1])\n",
    "print(first[2])\n",
    "print(first[3])\n",
    "print(first[4])\n",
    "# print(first[6]) # IndexError 예외발생"
   ]
  },
  {
   "cell_type": "code",
   "execution_count": 27,
   "metadata": {},
   "outputs": [
    {
     "name": "stdout",
     "output_type": "stream",
     "text": [
      "H\n"
     ]
    }
   ],
   "source": [
    "print(first[-6])"
   ]
  },
  {
   "cell_type": "code",
   "execution_count": 1,
   "metadata": {},
   "outputs": [
    {
     "name": "stdout",
     "output_type": "stream",
     "text": [
      "['2022-05-23', '17:33:45']\n",
      "2022-05-23\n",
      "17:33:45\n",
      "2022\n",
      "05\n",
      "23\n",
      "17\n",
      "33\n",
      "45\n",
      "45\n",
      "33\n"
     ]
    }
   ],
   "source": [
    "# 현재 일시\n",
    "current = '2022-05-23 17:33:45'\n",
    "curr_date = current.split(' ')\n",
    "print(curr_date)\n",
    "print(curr_date[0])\n",
    "print(curr_date[1])\n",
    "\n",
    "print(current[0:4])\n",
    "print(current[5:7])\n",
    "print(current[8:10])\n",
    "\n",
    "print(current[11:13])\n",
    "print(current[14:16])\n",
    "print(current[17:19]) # == print(current[17:])\n",
    "\n",
    "print(current[-2:])\n",
    "print(current[-5:-3])\n"
   ]
  }
 ],
 "metadata": {
  "interpreter": {
   "hash": "26de051ba29f2982a8de78e945f0abaf191376122a1563185a90213a26c5da77"
  },
  "kernelspec": {
   "display_name": "Python 3.10.4 64-bit",
   "language": "python",
   "name": "python3"
  },
  "language_info": {
   "codemirror_mode": {
    "name": "ipython",
    "version": 3
   },
   "file_extension": ".py",
   "mimetype": "text/x-python",
   "name": "python",
   "nbconvert_exporter": "python",
   "pygments_lexer": "ipython3",
   "version": "3.10.4"
  },
  "orig_nbformat": 4
 },
 "nbformat": 4,
 "nbformat_minor": 2
}
