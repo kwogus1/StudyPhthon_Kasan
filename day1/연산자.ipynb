{
 "cells": [
  {
   "cell_type": "markdown",
   "metadata": {},
   "source": [
    "## 연산자 학습\n",
    "1. 숫자 연산"
   ]
  },
  {
   "cell_type": "code",
   "execution_count": 6,
   "metadata": {},
   "outputs": [
    {
     "name": "stdout",
     "output_type": "stream",
     "text": [
      "15\n",
      "7\n",
      "44\n",
      "2.75\n",
      "2\n",
      "3\n"
     ]
    }
   ],
   "source": [
    "# 연산자\n",
    "a = 11; b = 4\n",
    "\n",
    "print(a + b)\n",
    "print(a - b)\n",
    "print(a * b)\n",
    "print(a / b)\n",
    "print(a // b) # 소수점 제거, 정수값\n",
    "print(a % b) # 나머지값\n"
   ]
  },
  {
   "cell_type": "code",
   "execution_count": 9,
   "metadata": {},
   "outputs": [
    {
     "name": "stdout",
     "output_type": "stream",
     "text": [
      "14641\n",
      "14641\n"
     ]
    }
   ],
   "source": [
    "print(a ** b) # 11의 4승\n",
    "print(11 * 11 * 11 * 11)"
   ]
  },
  {
   "cell_type": "code",
   "execution_count": 11,
   "metadata": {},
   "outputs": [
    {
     "ename": "ZeroDivisionError",
     "evalue": "division by zero",
     "output_type": "error",
     "traceback": [
      "\u001b[1;31m---------------------------------------------------------------------------\u001b[0m",
      "\u001b[1;31mZeroDivisionError\u001b[0m                         Traceback (most recent call last)",
      "\u001b[1;32mc:\\Repository\\StudyPhthon_Kasan\\day1\\연산자.ipynb Cell 5'\u001b[0m in \u001b[0;36m<cell line: 3>\u001b[1;34m()\u001b[0m\n\u001b[0;32m      <a href='vscode-notebook-cell:/c%3A/Repository/StudyPhthon_Kasan/day1/%EC%97%B0%EC%82%B0%EC%9E%90.ipynb#ch0000005?line=0'>1</a>\u001b[0m \u001b[39m# 경고!(예외처리) /오타는 error\u001b[39;00m\n\u001b[0;32m      <a href='vscode-notebook-cell:/c%3A/Repository/StudyPhthon_Kasan/day1/%EC%97%B0%EC%82%B0%EC%9E%90.ipynb#ch0000005?line=1'>2</a>\u001b[0m c \u001b[39m=\u001b[39m \u001b[39m0\u001b[39m\n\u001b[1;32m----> <a href='vscode-notebook-cell:/c%3A/Repository/StudyPhthon_Kasan/day1/%EC%97%B0%EC%82%B0%EC%9E%90.ipynb#ch0000005?line=2'>3</a>\u001b[0m \u001b[39mprint\u001b[39m(a \u001b[39m/\u001b[39;49m c)\n",
      "\u001b[1;31mZeroDivisionError\u001b[0m: division by zero"
     ]
    }
   ],
   "source": [
    "# 경고 예외 발생!(예외처리) /오타는 error\n",
    "c = 0\n",
    "print(a / c) # 어떤 수를 0으로 나눌  수 없음, 예외발생"
   ]
  },
  {
   "cell_type": "markdown",
   "metadata": {},
   "source": [
    "2. 문자열 연산"
   ]
  },
  {
   "cell_type": "code",
   "execution_count": 19,
   "metadata": {},
   "outputs": [
    {
     "name": "stdout",
     "output_type": "stream",
     "text": [
      "Hello, World\n",
      "WorldWorldWorldWorldWorld\n"
     ]
    }
   ],
   "source": [
    "#문자열 연산 +, *\n",
    "first = 'Hello,'\n",
    "second = 'World'\n",
    "print(first + ' ' + second)\n",
    "\n",
    "print(second * 5)\n",
    "# print(first - second) # Error\n",
    "# print(first / 2)"
   ]
  },
  {
   "cell_type": "code",
   "execution_count": 26,
   "metadata": {},
   "outputs": [
    {
     "name": "stdout",
     "output_type": "stream",
     "text": [
      "6\n",
      "H\n",
      "e\n",
      "l\n",
      "l\n",
      "o\n"
     ]
    }
   ],
   "source": [
    "## 문자열\n",
    "print(len(first))\n",
    "print(first[0])\n",
    "print(first[1])\n",
    "print(first[2])\n",
    "print(first[3])\n",
    "print(first[4])\n",
    "# print(first[6]) # IndexError 예외발생"
   ]
  },
  {
   "cell_type": "code",
   "execution_count": 27,
   "metadata": {},
   "outputs": [
    {
     "name": "stdout",
     "output_type": "stream",
     "text": [
      "H\n"
     ]
    }
   ],
   "source": [
    "print(first[-6])"
   ]
  },
  {
   "cell_type": "code",
   "execution_count": 2,
   "metadata": {},
   "outputs": [
    {
     "name": "stdout",
     "output_type": "stream",
     "text": [
      "['2022-05-23', '17:33:45']\n",
      "2022-05-23\n",
      "17:33:45\n",
      "2022\n",
      "05\n",
      "23\n",
      "17\n",
      "33\n",
      "45\n",
      "45\n",
      "33\n"
     ]
    }
   ],
   "source": [
    "# 현재 일시\n",
    "current = '2022-05-23 17:33:45'\n",
    "curr_date = current.split(' ')\n",
    "print(curr_date) # 배열, 리스트\n",
    "print(curr_date[0])\n",
    "print(curr_date[1])\n",
    "\n",
    "print(current[0:4])\n",
    "print(current[5:7])\n",
    "print(current[8:10])\n",
    "\n",
    "print(current[11:13])\n",
    "print(current[14:16])\n",
    "print(current[17:19]) # == print(current[17:])\n",
    "\n",
    "print(current[-2:])\n",
    "print(current[-5:-3])\n"
   ]
  },
  {
   "cell_type": "code",
   "execution_count": 10,
   "metadata": {},
   "outputs": [
    {
     "name": "stdout",
     "output_type": "stream",
     "text": [
      "[1, 2, 3, 4, 5]\n",
      "1\n"
     ]
    },
    {
     "ename": "NameError",
     "evalue": "name 'H' is not defined",
     "output_type": "error",
     "traceback": [
      "\u001b[1;31m---------------------------------------------------------------------------\u001b[0m",
      "\u001b[1;31mNameError\u001b[0m                                 Traceback (most recent call last)",
      "\u001b[1;32mc:\\Repository\\StudyPhthon_Kasan\\day1\\연산자.ipynb Cell 10'\u001b[0m in \u001b[0;36m<cell line: 5>\u001b[1;34m()\u001b[0m\n\u001b[0;32m      <a href='vscode-notebook-cell:/c%3A/Repository/StudyPhthon_Kasan/day1/%EC%97%B0%EC%82%B0%EC%9E%90.ipynb#ch0000009?line=2'>3</a>\u001b[0m \u001b[39mprint\u001b[39m(q)\n\u001b[0;32m      <a href='vscode-notebook-cell:/c%3A/Repository/StudyPhthon_Kasan/day1/%EC%97%B0%EC%82%B0%EC%9E%90.ipynb#ch0000009?line=3'>4</a>\u001b[0m \u001b[39mprint\u001b[39m(q[\u001b[39m0\u001b[39m])\n\u001b[1;32m----> <a href='vscode-notebook-cell:/c%3A/Repository/StudyPhthon_Kasan/day1/%EC%97%B0%EC%82%B0%EC%9E%90.ipynb#ch0000009?line=4'>5</a>\u001b[0m q[\u001b[39m0\u001b[39m] \u001b[39m=\u001b[39m H\n\u001b[0;32m      <a href='vscode-notebook-cell:/c%3A/Repository/StudyPhthon_Kasan/day1/%EC%97%B0%EC%82%B0%EC%9E%90.ipynb#ch0000009?line=5'>6</a>\u001b[0m \u001b[39mprint\u001b[39m(q)\n",
      "\u001b[1;31mNameError\u001b[0m: name 'H' is not defined"
     ]
    }
   ],
   "source": [
    "# 일반 리스트 값 변경\n",
    "q= [1,2,3,4,5]\n",
    "print(q)\n",
    "print(q[0])\n",
    "q[0] = H\n",
    "print(q)"
   ]
  },
  {
   "cell_type": "code",
   "execution_count": 9,
   "metadata": {},
   "outputs": [
    {
     "name": "stdout",
     "output_type": "stream",
     "text": [
      "hello!\n",
      "h\n",
      "hello!\n",
      "Hello!\n"
     ]
    }
   ],
   "source": [
    "# 문자(문자의 배열) 값 변경\n",
    "greeting = 'hello!'\n",
    "print(greeting)\n",
    "print(greeting[0])\n",
    "# greeting[0] = 'H' # TypeError 예외발생\n",
    "print(greeting) \n",
    "\n",
    "new_greeting = 'H' + greeting[1:]\n",
    "print(new_greeting)"
   ]
  },
  {
   "cell_type": "markdown",
   "metadata": {},
   "source": [
    "3. 문자열 포맷팅/연산자"
   ]
  },
  {
   "cell_type": "code",
   "execution_count": 26,
   "metadata": {},
   "outputs": [
    {
     "name": "stdout",
     "output_type": "stream",
     "text": [
      "I'm happy two you\n",
      "I'm happy two you\n",
      "I'm happy for me\n",
      "제 이름은 김재현입니다. 서울에 살아요.\n",
      "제 이름은 김재현입니다. 서울에 살아요.\n"
     ]
    }
   ],
   "source": [
    "# 문자열 포맷팅\n",
    "# 'I'm so happy for you''\n",
    "\"I'm so happy for you\"\n",
    "'I\\'m so happy for you'\n",
    "\n",
    "# 포맷팅 구식\n",
    "print(  'I\\'m happy {0} you'. format('two')  )\n",
    "print(  'I\\'m happy {0} {1}'. format('two', 'you')  )\n",
    "word1 = 'for'\n",
    "word2 = 'me'\n",
    "print(  'I\\'m happy {0} {1}'. format(word1, word2)  )\n",
    "# 포맷팅 신식\n",
    "name = '김재현'\n",
    "region = '서울'\n",
    "print(f'제 이름은 {\"김재현\"}입니다. {\"서울\"}에 살아요.')\n",
    "print(f'제 이름은 {name}입니다. {region}에 살아요.')\n"
   ]
  },
  {
   "cell_type": "code",
   "execution_count": 32,
   "metadata": {},
   "outputs": [
    {
     "name": "stdout",
     "output_type": "stream",
     "text": [
      "3.141592653589793\n",
      "3.141592653589793\n",
      "3.14\n",
      "3.142\n",
      "3.1416\n"
     ]
    }
   ],
   "source": [
    "import math\n",
    "print(math.pi)\n",
    "print(f'{math.pi}')\n",
    "print(f'{math.pi:0.2f}')\n",
    "print(f'{math.pi:0.3f}') # 소수점 넷째자리에서 반올림한 값\n",
    "print('{0:0.4f}'.format(math.pi))\n"
   ]
  },
  {
   "cell_type": "code",
   "execution_count": 38,
   "metadata": {},
   "outputs": [
    {
     "name": "stdout",
     "output_type": "stream",
     "text": [
      "서울특별시 금천구 가산동\n",
      "['서울특별시', '금천구', '가산동']\n",
      "['DEST07', '2022-05-24', '10:07:17', 'DESC11', 'NONE']\n"
     ]
    }
   ],
   "source": [
    "# 문자열 자르기\n",
    "orign_str = '서울특별시 금천구 가산동'\n",
    "print(orign_str)\n",
    "print(orign_str.split()) # 리스트 생성\n",
    "\n",
    "mes_str = 'DEST07|2022-05-24|10:07:17|DESC11|NONE' # |로 리스트 생성\n",
    "print(mes_str.split('|'))"
   ]
  },
  {
   "cell_type": "code",
   "execution_count": 76,
   "metadata": {},
   "outputs": [
    {
     "name": "stdout",
     "output_type": "stream",
     "text": [
      "Hugi MG Sung\n"
     ]
    }
   ],
   "source": [
    "# 문자열 치환\n",
    "full_name = 'Hugi MG Sung'\n",
    "rep_name = full_name.replace('Hugo MG', 'Ashly')\n",
    "print(rep_name)"
   ]
  },
  {
   "cell_type": "code",
   "execution_count": 77,
   "metadata": {},
   "outputs": [
    {
     "name": "stdout",
     "output_type": "stream",
     "text": [
      "['Hey', ' Guys~']\n",
      "['Hey', 'Guys']\n"
     ]
    }
   ],
   "source": [
    "# 문자열 공백 제거\n",
    "test = 'Hey, Guys~'\n",
    "sp_test = test.split(',') # 특정단어 잘라줌\n",
    "print(sp_test)\n",
    "sp_test[1] = sp_test[1].replace('~', '').strip() # 함수를 여러번 쓸 수 있음\n",
    "# 문자열에서 특정단어를 바꾸는 replace() \n",
    "# 문자열의 공백을 제거해주는 lstrip(), rstrip(), strip()\n",
    "print(sp_test)"
   ]
  },
  {
   "cell_type": "code",
   "execution_count": 118,
   "metadata": {},
   "outputs": [
    {
     "name": "stdout",
     "output_type": "stream",
     "text": [
      "Hello~     \n",
      "     Hello~\n",
      "Hello~\n"
     ]
    }
   ],
   "source": [
    "print('     Hello~     '.lstrip())   #왼쪽에 있는 공백 제거\n",
    "print('     Hello~     '.rstrip())   #오른쪽에 있는 공백 제거\n",
    "print('     Hello~     '.strip())   #양쪽에 있는 공백 제거\n",
    "\n",
    "#단, 글자들 사이에 존재하는 공백은 제거하지 못한다."
   ]
  },
  {
   "cell_type": "code",
   "execution_count": 78,
   "metadata": {},
   "outputs": [
    {
     "name": "stdout",
     "output_type": "stream",
     "text": [
      "5\n"
     ]
    }
   ],
   "source": [
    "print(test.index('G'))\n",
    "# print(test.index('g')) # ValueError 예외발생, 없는 단어 찾으면"
   ]
  },
  {
   "cell_type": "code",
   "execution_count": 79,
   "metadata": {},
   "outputs": [
    {
     "name": "stdout",
     "output_type": "stream",
     "text": [
      "5\n",
      "-1\n"
     ]
    }
   ],
   "source": [
    "print(test.find('G'))\n",
    "print(test.find('g')) # -1 나오면  값 없다는거를 알려줌, index보다는 find가 좋음"
   ]
  },
  {
   "cell_type": "code",
   "execution_count": 80,
   "metadata": {},
   "outputs": [
    {
     "name": "stdout",
     "output_type": "stream",
     "text": [
      "0\n"
     ]
    }
   ],
   "source": [
    "print('Hello~'.count('1'))"
   ]
  },
  {
   "cell_type": "code",
   "execution_count": 81,
   "metadata": {},
   "outputs": [
    {
     "name": "stdout",
     "output_type": "stream",
     "text": [
      "HUGI MG SUNG\n",
      "hugi mg sung\n"
     ]
    }
   ],
   "source": [
    "print(full_name.upper()) # 모든 단어를 대문자\n",
    "print(full_name.lower()) # 모든 단어를 소문자"
   ]
  },
  {
   "cell_type": "markdown",
   "metadata": {},
   "source": [
    "4. 리스트 연산"
   ]
  },
  {
   "cell_type": "code",
   "execution_count": 74,
   "metadata": {},
   "outputs": [
    {
     "name": "stdout",
     "output_type": "stream",
     "text": [
      "5\n",
      "5\n",
      "6\n",
      "[1, 2, '3', 4, 5]\n",
      "3333\n",
      "5\n"
     ]
    }
   ],
   "source": [
    "# 리스트 연산\n",
    "arr = [1,2,3,4,5] # length는 \n",
    "print(len(arr))\n",
    "print(arr[4])\n",
    "\n",
    "print(arr[0] + arr[4])\n",
    "arr[2] = '3' # 문자열로 변경\n",
    "print(arr)\n",
    "print(arr[2] * arr[3]) # 문자열 + 숫자는 연산안됨, +를 *로 변경\n",
    "print(arr[-1])"
   ]
  },
  {
   "cell_type": "code",
   "execution_count": 68,
   "metadata": {},
   "outputs": [
    {
     "name": "stdout",
     "output_type": "stream",
     "text": [
      "[1, 2, ['Hi', 'My', 'Frineds']]\n",
      "['Hi', 'My', 'Frineds']\n",
      "Frineds\n",
      "F\n"
     ]
    }
   ],
   "source": [
    "arr2 = [1,2, ['Hi', 'My', 'Frineds']] \n",
    "print(arr2)\n",
    "\n",
    "print(arr2[2])\n",
    "print(arr2[2][2])\n",
    "print(arr2[2][2][0])"
   ]
  },
  {
   "cell_type": "code",
   "execution_count": 69,
   "metadata": {},
   "outputs": [
    {
     "name": "stdout",
     "output_type": "stream",
     "text": [
      "[1, 2]\n",
      "[2, ['Hi', 'My', 'Frineds']]\n"
     ]
    }
   ],
   "source": [
    "print(arr2[0:2])\n",
    "print(arr2[-2:])"
   ]
  },
  {
   "cell_type": "code",
   "execution_count": 70,
   "metadata": {},
   "outputs": [
    {
     "name": "stdout",
     "output_type": "stream",
     "text": [
      "[1, 2, ['Hi', 'My', 'Frineds']]\n",
      "[1, 2]\n"
     ]
    }
   ],
   "source": [
    "print(arr2)\n",
    "del(arr2[2])\n",
    "print(arr2)"
   ]
  },
  {
   "cell_type": "code",
   "execution_count": 102,
   "metadata": {},
   "outputs": [
    {
     "ename": "NameError",
     "evalue": "name 'arr2' is not defined",
     "output_type": "error",
     "traceback": [
      "\u001b[1;31m---------------------------------------------------------------------------\u001b[0m",
      "\u001b[1;31mNameError\u001b[0m                                 Traceback (most recent call last)",
      "\u001b[1;32mc:\\Repository\\StudyPhthon_Kasan\\day1\\연산자.ipynb Cell 27'\u001b[0m in \u001b[0;36m<cell line: 1>\u001b[1;34m()\u001b[0m\n\u001b[1;32m----> <a href='vscode-notebook-cell:/c%3A/Repository/StudyPhthon_Kasan/day1/%EC%97%B0%EC%82%B0%EC%9E%90.ipynb#ch0000026?line=0'>1</a>\u001b[0m \u001b[39mdel\u001b[39;00m(arr2)\n\u001b[0;32m      <a href='vscode-notebook-cell:/c%3A/Repository/StudyPhthon_Kasan/day1/%EC%97%B0%EC%82%B0%EC%9E%90.ipynb#ch0000026?line=1'>2</a>\u001b[0m \u001b[39mprint\u001b[39m(arr2)\n",
      "\u001b[1;31mNameError\u001b[0m: name 'arr2' is not defined"
     ]
    }
   ],
   "source": [
    "del(arr2)\n",
    "print(arr2)"
   ]
  },
  {
   "cell_type": "code",
   "execution_count": 106,
   "metadata": {},
   "outputs": [
    {
     "name": "stdout",
     "output_type": "stream",
     "text": [
      "[1, 2, '3', 25, 25, 25, 25, 25, 25, 4, 5, 9, 9, 1, 2, 3, 4, 5, 9]\n"
     ]
    }
   ],
   "source": [
    "# 리스트 변수 추가\n",
    "print(arr)\n",
    "arr.append(9)"
   ]
  },
  {
   "cell_type": "code",
   "execution_count": 107,
   "metadata": {},
   "outputs": [
    {
     "name": "stdout",
     "output_type": "stream",
     "text": [
      "[1, 2, '3', 25, 25, 25, 25, 25, 25, 4, 5, 9, 9, 1, 2, 3, 4, 5, 9, 9]\n"
     ]
    }
   ],
   "source": [
    "print(arr)"
   ]
  },
  {
   "cell_type": "code",
   "execution_count": 108,
   "metadata": {},
   "outputs": [
    {
     "name": "stdout",
     "output_type": "stream",
     "text": [
      "[1, 2, '3', 25, 25, 25, 25, 25, 25, 25, 4, 5, 9, 9, 1, 2, 3, 4, 5, 9, 9]\n"
     ]
    }
   ],
   "source": [
    "# inset()\n",
    "arr.insert(3,25)\n",
    "print(arr)"
   ]
  },
  {
   "cell_type": "code",
   "execution_count": 90,
   "metadata": {},
   "outputs": [
    {
     "name": "stdout",
     "output_type": "stream",
     "text": [
      "[1, 2, '3', 25, 25, 25, 25, 25, 25, 4, 5, 9, 9, 1, 2, 3, 4, 5]\n"
     ]
    }
   ],
   "source": [
    "# 리스트에 리스트 추가\n",
    "arr.extend(q)\n",
    "print(arr)"
   ]
  },
  {
   "cell_type": "code",
   "execution_count": 93,
   "metadata": {},
   "outputs": [
    {
     "name": "stdout",
     "output_type": "stream",
     "text": [
      "[8, 2, 9, 3, 4, 5, 1, 10]\n",
      "[1, 2, 3, 4, 5, 8, 9, 10]\n",
      "[10, 9, 8, 5, 4, 3, 2, 1]\n"
     ]
    }
   ],
   "source": [
    "# 정렬\n",
    "list1 = [8,2,9,3,4,5,1,10]\n",
    "print(list1)\n",
    "\n",
    "list1.sort() # 오름차순 정렬\n",
    "print(list1)\n",
    "list1.reverse() # 내림차순 정렬\n",
    "print(list1)"
   ]
  },
  {
   "cell_type": "code",
   "execution_count": 95,
   "metadata": {},
   "outputs": [
    {
     "name": "stdout",
     "output_type": "stream",
     "text": [
      "[10, 9, 8, 5, 4, 3, 2, 1]\n",
      "1\n",
      "[10, 9, 8, 5, 4, 3, 2]\n"
     ]
    }
   ],
   "source": [
    "# 스택형태 함수\n",
    "print(list1)\n",
    "print(list1.pop()) # 전체 중에서 마지막 값을 제거 후 실행\n",
    "print(list1) "
   ]
  },
  {
   "cell_type": "markdown",
   "metadata": {},
   "source": [
    "5. 튜플, 튜플연산"
   ]
  },
  {
   "cell_type": "code",
   "execution_count": 98,
   "metadata": {},
   "outputs": [
    {
     "name": "stdout",
     "output_type": "stream",
     "text": [
      "(1, 2, 3, 4, 5)\n"
     ]
    }
   ],
   "source": [
    "tup1 = (1,2,3,4,5)\n",
    "print(tup1)"
   ]
  },
  {
   "cell_type": "code",
   "execution_count": 100,
   "metadata": {},
   "outputs": [
    {
     "name": "stdout",
     "output_type": "stream",
     "text": [
      "5\n"
     ]
    }
   ],
   "source": [
    "print(tup1[4])"
   ]
  },
  {
   "cell_type": "code",
   "execution_count": 104,
   "metadata": {},
   "outputs": [
    {
     "ename": "TypeError",
     "evalue": "'tuple' object does not support item assignment",
     "output_type": "error",
     "traceback": [
      "\u001b[1;31m---------------------------------------------------------------------------\u001b[0m",
      "\u001b[1;31mTypeError\u001b[0m                                 Traceback (most recent call last)",
      "\u001b[1;32mc:\\Repository\\StudyPhthon_Kasan\\day1\\연산자.ipynb Cell 37'\u001b[0m in \u001b[0;36m<cell line: 1>\u001b[1;34m()\u001b[0m\n\u001b[1;32m----> <a href='vscode-notebook-cell:/c%3A/Repository/StudyPhthon_Kasan/day1/%EC%97%B0%EC%82%B0%EC%9E%90.ipynb#ch0000040?line=0'>1</a>\u001b[0m tup1[\u001b[39m0\u001b[39m] \u001b[39m=\u001b[39m \u001b[39m7\u001b[39m\n",
      "\u001b[1;31mTypeError\u001b[0m: 'tuple' object does not support item assignment"
     ]
    }
   ],
   "source": [
    "tup1[0] = 7 # 튜플은 리스트와 달리 추가, 변경, 삭제 안됨"
   ]
  },
  {
   "cell_type": "markdown",
   "metadata": {},
   "source": [
    "6. 딕셔너리 연산"
   ]
  },
  {
   "cell_type": "code",
   "execution_count": 113,
   "metadata": {},
   "outputs": [
    {
     "name": "stdout",
     "output_type": "stream",
     "text": [
      "{1: 'a'}\n"
     ]
    }
   ],
   "source": [
    "dic_a = { 1 : 'a'} # 딕셔너리는 대괄호\n",
    "print(dic_a)"
   ]
  },
  {
   "cell_type": "code",
   "execution_count": 114,
   "metadata": {},
   "outputs": [
    {
     "name": "stdout",
     "output_type": "stream",
     "text": [
      "{1: 'a', 2: 'b'}\n"
     ]
    }
   ],
   "source": [
    "dic_a[2] = 'b'\n",
    "print(dic_a)"
   ]
  },
  {
   "cell_type": "code",
   "execution_count": 115,
   "metadata": {},
   "outputs": [
    {
     "name": "stdout",
     "output_type": "stream",
     "text": [
      "{1: 'a', 2: 'b', 'name': 'Hugo'}\n"
     ]
    }
   ],
   "source": [
    "dic_a['name'] = 'Hugo'\n",
    "print(dic_a)"
   ]
  },
  {
   "cell_type": "code",
   "execution_count": 119,
   "metadata": {},
   "outputs": [
    {
     "name": "stdout",
     "output_type": "stream",
     "text": [
      "{'name': 'Peter parker', 'armer': 'Web shooter', 'age': 20}\n"
     ]
    }
   ],
   "source": [
    "spider_man = {'name':'Peter parker', 'armer':'Web shooter', 'age':20}\n",
    "print(spider_man)"
   ]
  },
  {
   "cell_type": "code",
   "execution_count": 120,
   "metadata": {},
   "outputs": [
    {
     "name": "stdout",
     "output_type": "stream",
     "text": [
      "Peter parker\n",
      "age in spider_man\n"
     ]
    }
   ],
   "source": [
    "print(spider_man['name'])\n",
    "print('age in spider_man')"
   ]
  }
 ],
 "metadata": {
  "interpreter": {
   "hash": "26de051ba29f2982a8de78e945f0abaf191376122a1563185a90213a26c5da77"
  },
  "kernelspec": {
   "display_name": "Python 3.10.4 64-bit",
   "language": "python",
   "name": "python3"
  },
  "language_info": {
   "codemirror_mode": {
    "name": "ipython",
    "version": 3
   },
   "file_extension": ".py",
   "mimetype": "text/x-python",
   "name": "python",
   "nbconvert_exporter": "python",
   "pygments_lexer": "ipython3",
   "version": "3.10.4"
  },
  "orig_nbformat": 4
 },
 "nbformat": 4,
 "nbformat_minor": 2
}
