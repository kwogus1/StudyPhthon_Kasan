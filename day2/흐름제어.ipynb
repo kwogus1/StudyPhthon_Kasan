{
 "cells": [
  {
   "cell_type": "markdown",
   "metadata": {},
   "source": [
    "## 흐름제어\n",
    "1. if문\n",
    "\n",
    "    o 들여쓰기(탭, 공백), 구문 내용없을 때 pass"
   ]
  },
  {
   "cell_type": "code",
   "execution_count": 4,
   "metadata": {},
   "outputs": [
    {
     "name": "stdout",
     "output_type": "stream",
     "text": [
      "대기합니다\n"
     ]
    }
   ],
   "source": [
    "name = '길동'\n",
    "\n",
    "if name == '명건': # 참인 경우\n",
    "    print('진료실로 들어갑니다')\n",
    "else:\n",
    "    print('대기합니다')"
   ]
  },
  {
   "cell_type": "code",
   "execution_count": 7,
   "metadata": {},
   "outputs": [
    {
     "name": "stdout",
     "output_type": "stream",
     "text": [
      "길동이도 진료실로 들어갑니다\n"
     ]
    }
   ],
   "source": [
    "name = '길동' # 이름 변경해가며 실행\n",
    "\n",
    "if name == '명건': # 참인 경우\n",
    "    print(f'{name},진료실로 들어갑니다')\n",
    "elif name == '길동':\n",
    "    print(f'{name}이도 진료실로 들어갑니다')\n",
    "else:\n",
    "    print('대기합니다')"
   ]
  },
  {
   "cell_type": "code",
   "execution_count": 15,
   "metadata": {},
   "outputs": [
    {
     "name": "stdout",
     "output_type": "stream",
     "text": [
      "주사실로 갑니다\n"
     ]
    }
   ],
   "source": [
    "name = '길동'  # 이름 변경해가며 실행\n",
    "\n",
    "if name == '명건' or name == '용길': \n",
    "    print('진료실로 갑니다')\n",
    "elif name == '길동':\n",
    "    print('주사실로 갑니다')\n",
    "else:\n",
    "    print('대기합니다')"
   ]
  },
  {
   "cell_type": "code",
   "execution_count": 18,
   "metadata": {},
   "outputs": [
    {
     "name": "stdout",
     "output_type": "stream",
     "text": [
      "대기합니다\n"
     ]
    }
   ],
   "source": [
    "name = '명건'  # 이름 변경해가며 실행\n",
    "gender = '여자' # 성별 변경해가며 실행, 여자이므로 else\n",
    "\n",
    "if name == '명건' and gender == '남자': \n",
    "    print('진료실로 갑니다')\n",
    "elif name == '길동':\n",
    "    print('주사실로 갑니다')\n",
    "else:\n",
    "    print('대기합니다')"
   ]
  },
  {
   "cell_type": "code",
   "execution_count": 20,
   "metadata": {},
   "outputs": [
    {
     "name": "stdout",
     "output_type": "stream",
     "text": [
      "있습니다\n"
     ]
    }
   ],
   "source": [
    "arr = [1,3,5,7,9]\n",
    "x = 3 # x값 변경해가며 실행\n",
    "\n",
    "if (x in arr):\n",
    "    print('있습니다')\n",
    "else:\n",
    "    print('없습니다')"
   ]
  },
  {
   "cell_type": "code",
   "execution_count": 22,
   "metadata": {},
   "outputs": [
    {
     "name": "stdout",
     "output_type": "stream",
     "text": [
      "있습니다\n"
     ]
    }
   ],
   "source": [
    "arr = [1,3,5,7,9]\n",
    "x = 2 # x값 변경해가며 실행\n",
    "\n",
    "if (x not in arr):\n",
    "    print('있습니다')\n",
    "else:\n",
    "    print('없습니다')"
   ]
  },
  {
   "cell_type": "code",
   "execution_count": 24,
   "metadata": {},
   "outputs": [
    {
     "name": "stdout",
     "output_type": "stream",
     "text": [
      "진료실로 갑니다\n"
     ]
    }
   ],
   "source": [
    "name = '명건'  # 이름 변경해가며 실행\n",
    "gender = '남자' # 성별 변경해가며 실행, 여자이므로 else\n",
    "\n",
    "if name == '명건':\n",
    "    if gender == '남자': \n",
    "        print('진료실로 갑니다')\n",
    "    else:\n",
    "        print('기다리세요')\n",
    "elif name == '길동':\n",
    "    print('주사실로 갑니다')\n",
    "else:\n",
    "    print('대기합니다')"
   ]
  },
  {
   "cell_type": "markdown",
   "metadata": {},
   "source": [
    "2. for문(프로그래밍 흐름제어서 가장 중요!)"
   ]
  },
  {
   "cell_type": "code",
   "execution_count": 33,
   "metadata": {},
   "outputs": [
    {
     "name": "stdout",
     "output_type": "stream",
     "text": [
      "1\n",
      "2\n",
      "3\n",
      "4\n",
      "5\n",
      "6\n",
      "7\n",
      "8\n",
      "9\n",
      "10\n"
     ]
    }
   ],
   "source": [
    "arr = [1,2,3,4,5,6,7,8,9,10]\n",
    "\n",
    "for i in arr:\n",
    "    print(i)"
   ]
  },
  {
   "cell_type": "code",
   "execution_count": 34,
   "metadata": {},
   "outputs": [
    {
     "name": "stdout",
     "output_type": "stream",
     "text": [
      "1.0\n",
      "2.0\n",
      "3.0\n",
      "4.0\n",
      "5.0\n",
      "6.0\n",
      "7.0\n",
      "8.0\n",
      "9.0\n",
      "10.0\n",
      "55\n"
     ]
    }
   ],
   "source": [
    "arr = [1,2,3,4,5,6,7,8,9,10]\n",
    "\n",
    "for i in arr:\n",
    "    print(f'{i:0.1f}')\n",
    "\n",
    "sum = 0\n",
    "for i in arr:\n",
    "    # sum = sum + i\n",
    "    sum +=i\n",
    "\n",
    "print(sum)"
   ]
  },
  {
   "cell_type": "code",
   "execution_count": 31,
   "metadata": {},
   "outputs": [
    {
     "name": "stdout",
     "output_type": "stream",
     "text": [
      "Me\n",
      "My\n",
      "Friends\n",
      "Jane\n"
     ]
    }
   ],
   "source": [
    "arr2 = ('Me', 'My', 'Friends', 'Jane')\n",
    "\n",
    "for j in arr2:\n",
    "    print(j)"
   ]
  },
  {
   "cell_type": "code",
   "execution_count": 37,
   "metadata": {},
   "outputs": [
    {
     "name": "stdout",
     "output_type": "stream",
     "text": [
      "        Me\n",
      "        My\n",
      "   Friends\n",
      "      Jane\n"
     ]
    }
   ],
   "source": [
    "arr2 = ('Me', 'My', 'Friends', 'Jane')\n",
    "\n",
    "for j in arr2:\n",
    "    print(f'{j:>10}') # 10의 길이로 오른쪽정렬"
   ]
  },
  {
   "cell_type": "code",
   "execution_count": 46,
   "metadata": {},
   "outputs": [
    {
     "name": "stdout",
     "output_type": "stream",
     "text": [
      "[1, 3, 5, 7, 9, 11, 13, 15, 17, 19]\n",
      "1번째 수는 1입니다\n",
      "2번째 수는 3입니다\n",
      "3번째 수는 5입니다\n",
      "4번째 수는 7입니다\n",
      "5번째 수는 9입니다\n",
      "6번째 수는 11입니다\n",
      "7번째 수는 13입니다\n",
      "8번째 수는 15입니다\n",
      "9번째 수는 17입니다\n",
      "10번째 수는 19입니다\n"
     ]
    }
   ],
   "source": [
    "vals = [i for i in range(1,20,2)] # 1부터 20까지 2씩 증가한 값\n",
    "print(vals)\n",
    "\n",
    "num = 0 \n",
    "for item in vals:  # item은 지역변수, for문안에서만 \n",
    "    num +=1\n",
    "    print(f'{num}번째 수는 {item}입니다')"
   ]
  },
  {
   "cell_type": "code",
   "execution_count": 44,
   "metadata": {},
   "outputs": [
    {
     "name": "stdout",
     "output_type": "stream",
     "text": [
      "[1, 2, 3, 4, 5, 6, 7, 8, 9, 10, 11, 12, 13, 14, 15, 16, 17, 18, 19, 20]\n",
      "1번째 수는 1입니다\n",
      "2번째 수는 2입니다\n",
      "3번째 수는 3입니다\n",
      "4번째 수는 4입니다\n",
      "5번째 수는 5입니다\n",
      "6번째 수는 6입니다\n",
      "7번째 수는 7입니다\n",
      "8번째 수는 8입니다\n",
      "9번째 수는 9입니다\n",
      "10번째 수는 10입니다\n",
      "11번째 수는 11입니다\n",
      "12번째 수는 12입니다\n",
      "13번째 수는 13입니다\n",
      "14번째 수는 14입니다\n",
      "15번째 수는 15입니다\n",
      "16번째 수는 16입니다\n",
      "17번째 수는 17입니다\n",
      "18번째 수는 18입니다\n",
      "19번째 수는 19입니다\n",
      "20번째 수는 20입니다\n"
     ]
    }
   ],
   "source": [
    "vals2 = [i for i in range(1, 21)]\n",
    "print(vals2)\n",
    "\n",
    "num = 0\n",
    "for item in vals2:\n",
    "    num +=1\n",
    "    print(f'{num}번째 수는 {item}입니다')"
   ]
  },
  {
   "cell_type": "code",
   "execution_count": 45,
   "metadata": {},
   "outputs": [
    {
     "name": "stdout",
     "output_type": "stream",
     "text": [
      "[1, 2, 3, 4, 5, 6, 7, 8, 9, 10, 11, 12, 13, 14, 15, 16, 17, 18, 19, 20]\n",
      "1번째 수는 1입니다\n",
      "2번째 수는 3입니다\n",
      "3번째 수는 5입니다\n",
      "4번째 수는 7입니다\n",
      "5번째 수는 9입니다\n",
      "6번째 수는 11입니다\n",
      "7번째 수는 13입니다\n",
      "8번째 수는 15입니다\n",
      "9번째 수는 17입니다\n",
      "10번째 수는 19입니다\n"
     ]
    }
   ],
   "source": [
    "vals2 = [i for i in range(1, 21)]\n",
    "print(vals2)\n",
    "\n",
    "num = 0\n",
    "for item in vals2:\n",
    "    if item % 2 == 0: continue\n",
    "    num +=1\n",
    "    print(f'{num}번째 수는 {item}입니다')"
   ]
  },
  {
   "cell_type": "code",
   "execution_count": 47,
   "metadata": {},
   "outputs": [
    {
     "name": "stdout",
     "output_type": "stream",
     "text": [
      "[1, 2, 3, 4, 5, 6, 7, 8, 9, 10, 11, 12, 13, 14, 15, 16, 17, 18, 19, 20]\n",
      "1번째 수는 1입니다\n"
     ]
    }
   ],
   "source": [
    "vals2 = [i for i in range(1, 21)]\n",
    "print(vals2)\n",
    "\n",
    "num = 0\n",
    "for item in vals2:\n",
    "    if item % 2 == 0: break\n",
    "    num +=1\n",
    "    print(f'{num}번째 수는 {item}입니다')"
   ]
  },
  {
   "cell_type": "code",
   "execution_count": 50,
   "metadata": {},
   "outputs": [
    {
     "name": "stdout",
     "output_type": "stream",
     "text": [
      "Hello World\n"
     ]
    }
   ],
   "source": [
    "print('Hello', end=' ')\n",
    "print('World')"
   ]
  },
  {
   "cell_type": "code",
   "execution_count": 3,
   "metadata": {},
   "outputs": [
    {
     "name": "stdout",
     "output_type": "stream",
     "text": [
      "2 * 1 =  2,2 * 2 =  4,2 * 3 =  6,2 * 4 =  8,2 * 5 = 10,2 * 6 = 12,2 * 7 = 14,2 * 8 = 16,2 * 9 = 18,\n",
      "3 * 1 =  3,3 * 2 =  6,3 * 3 =  9,3 * 4 = 12,3 * 5 = 15,3 * 6 = 18,3 * 7 = 21,3 * 8 = 24,3 * 9 = 27,\n",
      "4 * 1 =  4,4 * 2 =  8,4 * 3 = 12,4 * 4 = 16,4 * 5 = 20,4 * 6 = 24,4 * 7 = 28,4 * 8 = 32,4 * 9 = 36,"
     ]
    }
   ],
   "source": [
    "# 구구단\n",
    "for i in range(1,10):\n",
    "    print(f'2 * {i} = {2*i:>2}', end=',') # >2 2칸을 오른쪽정렬\n",
    "\n",
    "print()\n",
    "for i in range(1,10):\n",
    "    print(f'3 * {i} = {3*i:>2}', end=',') # >2 2칸을 오른쪽정렬\n",
    "\n",
    "print()\n",
    "for i in range(1,10):\n",
    "    print(f'4 * {i} = {4*i:>2}', end=',') # >2 2칸을 오른쪽정렬"
   ]
  },
  {
   "cell_type": "code",
   "execution_count": 62,
   "metadata": {},
   "outputs": [
    {
     "name": "stdout",
     "output_type": "stream",
     "text": [
      "2 * 1 =  2,2 * 2 =  4,2 * 3 =  6,2 * 4 =  8,2 * 5 = 10,2 * 6 = 12,2 * 7 = 14,2 * 8 = 16,2 * 9 = 18,3 * 1 =  3,3 * 2 =  6,3 * 3 =  9,3 * 4 = 12,3 * 5 = 15,3 * 6 = 18,3 * 7 = 21,3 * 8 = 24,3 * 9 = 27,4 * 1 =  4,4 * 2 =  8,4 * 3 = 12,4 * 4 = 16,4 * 5 = 20,4 * 6 = 24,4 * 7 = 28,4 * 8 = 32,4 * 9 = 36,5 * 1 =  5,5 * 2 = 10,5 * 3 = 15,5 * 4 = 20,5 * 5 = 25,5 * 6 = 30,5 * 7 = 35,5 * 8 = 40,5 * 9 = 45,6 * 1 =  6,6 * 2 = 12,6 * 3 = 18,6 * 4 = 24,6 * 5 = 30,6 * 6 = 36,6 * 7 = 42,6 * 8 = 48,6 * 9 = 54,7 * 1 =  7,7 * 2 = 14,7 * 3 = 21,7 * 4 = 28,7 * 5 = 35,7 * 6 = 42,7 * 7 = 49,7 * 8 = 56,7 * 9 = 63,8 * 1 =  8,8 * 2 = 16,8 * 3 = 24,8 * 4 = 32,8 * 5 = 40,8 * 6 = 48,8 * 7 = 56,8 * 8 = 64,8 * 9 = 72,9 * 1 =  9,9 * 2 = 18,9 * 3 = 27,9 * 4 = 36,9 * 5 = 45,9 * 6 = 54,9 * 7 = 63,9 * 8 = 72,9 * 9 = 81,"
     ]
    }
   ],
   "source": [
    "# 향상된 구구단\n",
    "for x in range(2,10):\n",
    "    for y in range(1,10):\n",
    "        print(f'{x} * {y} = {x*y:>2}', end= ',')"
   ]
  },
  {
   "cell_type": "code",
   "execution_count": 63,
   "metadata": {},
   "outputs": [
    {
     "name": "stdout",
     "output_type": "stream",
     "text": [
      "구구단\n",
      "2단 시작 ---- \n",
      "2 * 1 =  2,2 * 2 =  4,2 * 3 =  6,2 * 4 =  8,2 * 5 = 10,2 * 6 = 12,2 * 7 = 14,2 * 8 = 16,2 * 9 = 18,3단 시작 ---- \n",
      "3 * 1 =  3,3 * 2 =  6,3 * 3 =  9,3 * 4 = 12,3 * 5 = 15,3 * 6 = 18,3 * 7 = 21,3 * 8 = 24,3 * 9 = 27,4단 시작 ---- \n",
      "4 * 1 =  4,4 * 2 =  8,4 * 3 = 12,4 * 4 = 16,4 * 5 = 20,4 * 6 = 24,4 * 7 = 28,4 * 8 = 32,4 * 9 = 36,5단 시작 ---- \n",
      "5 * 1 =  5,5 * 2 = 10,5 * 3 = 15,5 * 4 = 20,5 * 5 = 25,5 * 6 = 30,5 * 7 = 35,5 * 8 = 40,5 * 9 = 45,6단 시작 ---- \n",
      "6 * 1 =  6,6 * 2 = 12,6 * 3 = 18,6 * 4 = 24,6 * 5 = 30,6 * 6 = 36,6 * 7 = 42,6 * 8 = 48,6 * 9 = 54,7단 시작 ---- \n",
      "7 * 1 =  7,7 * 2 = 14,7 * 3 = 21,7 * 4 = 28,7 * 5 = 35,7 * 6 = 42,7 * 7 = 49,7 * 8 = 56,7 * 9 = 63,8단 시작 ---- \n",
      "8 * 1 =  8,8 * 2 = 16,8 * 3 = 24,8 * 4 = 32,8 * 5 = 40,8 * 6 = 48,8 * 7 = 56,8 * 8 = 64,8 * 9 = 72,9단 시작 ---- \n",
      "9 * 1 =  9,9 * 2 = 18,9 * 3 = 27,9 * 4 = 36,9 * 5 = 45,9 * 6 = 54,9 * 7 = 63,9 * 8 = 72,9 * 9 = 81,"
     ]
    }
   ],
   "source": [
    "# 향상된 구구단\n",
    "print('구구단')\n",
    "for x in range(2,10):\n",
    "    print(f'{x}단 시작 ---- ')\n",
    "    for y in range(1,10):\n",
    "        print(f'{x} * {y} = {x*y:>2}', end= ',')"
   ]
  },
  {
   "cell_type": "markdown",
   "metadata": {},
   "source": [
    "3. while문 (for문으로 대체가능)"
   ]
  },
  {
   "cell_type": "code",
   "execution_count": null,
   "metadata": {},
   "outputs": [],
   "source": [
    "hit = 0 # 무한루프\n",
    "\n",
    "while hit <100:\n",
    "    pass"
   ]
  },
  {
   "cell_type": "code",
   "execution_count": 21,
   "metadata": {},
   "outputs": [
    {
     "name": "stdout",
     "output_type": "stream",
     "text": [
      "나무를  1번 찍었습니다\n",
      "나무를  2번 찍었습니다\n",
      "나무를  3번 찍었습니다\n",
      "나무를  4번 찍었습니다\n",
      "나무를  5번 찍었습니다\n",
      "나무를  6번 찍었습니다\n",
      "나무를  7번 찍었습니다\n",
      "나무를  8번 찍었습니다\n",
      "나무를  9번 찍었습니다\n",
      "나무를  10번 찍었습니다\n",
      "나무가 넘어갔습니다\n"
     ]
    }
   ],
   "source": [
    "hit = 0 \n",
    "\n",
    "while hit <100:\n",
    "    hit +=1\n",
    "\n",
    "    print(f'나무를  {hit}번 찍었습니다') # size limit에서 100이상으로 설정, 모든 번호 출력\n",
    "\n",
    "    if (hit == 10):\n",
    "        print('나무가 넘어갔습니다')\n",
    "        break"
   ]
  },
  {
   "cell_type": "code",
   "execution_count": 10,
   "metadata": {},
   "outputs": [
    {
     "name": "stdout",
     "output_type": "stream",
     "text": [
      "*****\n",
      "*****\n",
      "*****\n",
      "*****\n",
      "*****\n"
     ]
    }
   ],
   "source": [
    "# 별표찍기 사각형찍기\n",
    "for x in range(1, 6):\n",
    "    for y in range(1, 6):\n",
    "        print('*', end='')\n",
    "    print()"
   ]
  },
  {
   "cell_type": "code",
   "execution_count": 9,
   "metadata": {},
   "outputs": [
    {
     "name": "stdout",
     "output_type": "stream",
     "text": [
      "*****\n",
      "****\n",
      "***\n",
      "**\n",
      "*\n"
     ]
    }
   ],
   "source": [
    "# 별표찍기 역직각삼각형\n",
    "for x in range(1, 6):\n",
    "    for y in range(x, 6):\n",
    "        print('*', end='')\n",
    "    print()"
   ]
  },
  {
   "cell_type": "code",
   "execution_count": 11,
   "metadata": {},
   "outputs": [
    {
     "name": "stdout",
     "output_type": "stream",
     "text": [
      "*\n",
      "**\n",
      "***\n",
      "****\n",
      "*****\n"
     ]
    }
   ],
   "source": [
    "# 별표찍기 직각삼각형\n",
    "for x in range(1, 6):\n",
    "    for y in range(1, x+1):\n",
    "        print('*', end='')\n",
    "    print()"
   ]
  },
  {
   "cell_type": "code",
   "execution_count": 13,
   "metadata": {},
   "outputs": [
    {
     "name": "stdout",
     "output_type": "stream",
     "text": [
      "     *\n",
      "    ***\n",
      "   *****\n",
      "  *******\n",
      " *********\n"
     ]
    }
   ],
   "source": [
    "# 별표찍기 피라미드\n",
    "for x in range(1, 6):\n",
    "    for y in range(x, 6):\n",
    "        print(' ' , end='')\n",
    "\n",
    "    for y in range(1, 2*x):\n",
    "        print('*', end='')\n",
    "    print()"
   ]
  }
 ],
 "metadata": {
  "interpreter": {
   "hash": "26de051ba29f2982a8de78e945f0abaf191376122a1563185a90213a26c5da77"
  },
  "kernelspec": {
   "display_name": "Python 3.10.4 64-bit",
   "language": "python",
   "name": "python3"
  },
  "language_info": {
   "codemirror_mode": {
    "name": "ipython",
    "version": 3
   },
   "file_extension": ".py",
   "mimetype": "text/x-python",
   "name": "python",
   "nbconvert_exporter": "python",
   "pygments_lexer": "ipython3",
   "version": "3.10.4"
  },
  "orig_nbformat": 4
 },
 "nbformat": 4,
 "nbformat_minor": 2
}
