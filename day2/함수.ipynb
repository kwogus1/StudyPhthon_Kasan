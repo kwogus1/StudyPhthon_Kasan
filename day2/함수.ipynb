{
 "cells": [
  {
   "cell_type": "markdown",
   "metadata": {},
   "source": [
    "## 함수"
   ]
  },
  {
   "cell_type": "markdown",
   "metadata": {},
   "source": [
    "1. 함수정의"
   ]
  },
  {
   "cell_type": "code",
   "execution_count": 23,
   "metadata": {},
   "outputs": [],
   "source": [
    "def add(x, y = 1): # 매개변수 o return문 o\n",
    "    result = x + y\n",
    "    return result # 삭제가능\n",
    "\n",
    "def print_add(x, y): # 매개변수 o return문 x\n",
    "    print(x + y)\n",
    "\n",
    "def print_hello(): # 매개변수 x return문 x\n",
    "    print('Hello, world!')\n",
    "\n",
    "def ret_hello(): # 매개변수 x, return문 o\n",
    "    return 'Hello'"
   ]
  },
  {
   "cell_type": "code",
   "execution_count": 19,
   "metadata": {},
   "outputs": [
    {
     "name": "stdout",
     "output_type": "stream",
     "text": [
      "Hello My frined\n",
      "Hello, world!\n",
      "2.302585092994046\n",
      "11\n",
      "Hello 2.302585092994046 11\n",
      "12\n"
     ]
    }
   ],
   "source": [
    "import math\n",
    "\n",
    "# 매개변수 x, return문 o\n",
    "val = ret_hello() \n",
    "print(val, 'My frined')\n",
    "print_hello()\n",
    "\n",
    "# 매개변수 o return문 o\n",
    "res = math.log(10) \n",
    "print(res)\n",
    "\n",
    "add_res = add(7, 4)\n",
    "print(add_res)\n",
    "\n",
    "print(val, res, add_res) # 값 나열\n",
    "\n",
    "print_add(7, 5)"
   ]
  },
  {
   "cell_type": "code",
   "execution_count": 22,
   "metadata": {},
   "outputs": [
    {
     "name": "stdout",
     "output_type": "stream",
     "text": [
      "13\n"
     ]
    }
   ],
   "source": [
    "res = add(y = 6, x = 7) # y를 먼저 지정할 경우 가능\n",
    "print(res)"
   ]
  },
  {
   "cell_type": "code",
   "execution_count": 28,
   "metadata": {},
   "outputs": [],
   "source": [
    "# 매개변수가 가변일때\n",
    "def adds(*args):\n",
    "    res = 0\n",
    "\n",
    "    for i in args:\n",
    "        res += i\n",
    "    \n",
    "    return res"
   ]
  },
  {
   "cell_type": "code",
   "execution_count": 29,
   "metadata": {},
   "outputs": [
    {
     "name": "stdout",
     "output_type": "stream",
     "text": [
      "21\n",
      "55\n"
     ]
    }
   ],
   "source": [
    "print(adds(1,2,3,4,5,6))\n",
    "print(adds(1,2,3,4,5,6,7,8,9,10))"
   ]
  },
  {
   "cell_type": "code",
   "execution_count": 32,
   "metadata": {},
   "outputs": [],
   "source": [
    "def mul_and_add(x, y):\n",
    "    res_mul = x * y\n",
    "    res_add = x + y\n",
    "\n",
    "    return (res_mul, res_add) # tuple 형식으로 리턴"
   ]
  },
  {
   "cell_type": "code",
   "execution_count": 33,
   "metadata": {},
   "outputs": [
    {
     "name": "stdout",
     "output_type": "stream",
     "text": [
      "72\n",
      "17\n"
     ]
    }
   ],
   "source": [
    "(res1, res2) = mul_and_add(8, 9)\n",
    "print(res1)\n",
    "print(res2)"
   ]
  },
  {
   "cell_type": "code",
   "execution_count": 37,
   "metadata": {},
   "outputs": [],
   "source": [
    "def all_calc(*args):\n",
    "    res_mul = 1\n",
    "    res_add = 0\n",
    "    res_div = 1\n",
    "    res_sub = 0\n",
    "    last_num = 0\n",
    "    for i in args:\n",
    "        res_mul *= i\n",
    "        res_add += i\n",
    "        last_num = i\n",
    "\n",
    "    res_div = res_mul / last_num\n",
    "    res_sub = res_add - last_num\n",
    "\n",
    "    return (res_add, res_sub, res_mul, res_div)"
   ]
  },
  {
   "cell_type": "code",
   "execution_count": 39,
   "metadata": {},
   "outputs": [
    {
     "name": "stdout",
     "output_type": "stream",
     "text": [
      "15\n",
      "10\n",
      "120\n",
      "24.0\n"
     ]
    }
   ],
   "source": [
    "(res1, res2, res3, res4) = all_calc(1,2,3,4,5) # res1, res2, res3, res4는 괄호 생략가능\n",
    "print(res1)\n",
    "print(res2)\n",
    "print(res3)\n",
    "print(res4)"
   ]
  },
  {
   "cell_type": "markdown",
   "metadata": {},
   "source": [
    "- 매개변수가 없고, 리턴문이 없는 경우\n",
    "- 매개변수가 없고, 리턴문은 있는 경우\n",
    "- 매개변수가 있고, 리턴문이 없는 경우\n",
    "- 매개변수가 있고, 리턴문도 있는 경우\n",
    "- 매개변수의 갯수가 가변인 경우\n",
    "- 리턴되는 결과가 1건 이상인 경우"
   ]
  },
  {
   "cell_type": "markdown",
   "metadata": {},
   "source": [
    "2. 함수와 변수의 라이프 스코프"
   ]
  },
  {
   "cell_type": "code",
   "execution_count": 40,
   "metadata": {},
   "outputs": [
    {
     "name": "stdout",
     "output_type": "stream",
     "text": [
      "2\n"
     ]
    }
   ],
   "source": [
    "a = 1 # 변수, 전역변수\n",
    "\n",
    "def vartest(a): # 매개변수이고 지역변수, def~return 안에서만 존재\n",
    "    a += 1\n",
    "    return a # a는 없어짐\n",
    "    \n",
    "\n",
    "a = vartest(a)\n",
    "print(a)"
   ]
  },
  {
   "cell_type": "code",
   "execution_count": 42,
   "metadata": {},
   "outputs": [
    {
     "name": "stdout",
     "output_type": "stream",
     "text": [
      "5\n"
     ]
    }
   ],
   "source": [
    "b = 1\n",
    "\n",
    "def vartestb(): # return 생략가능\n",
    "    global b # 전역변수를 함수내에서 사용할래!!\n",
    "    b += 4 \n",
    "\n",
    "vartestb()\n",
    "print(b)"
   ]
  }
 ],
 "metadata": {
  "interpreter": {
   "hash": "26de051ba29f2982a8de78e945f0abaf191376122a1563185a90213a26c5da77"
  },
  "kernelspec": {
   "display_name": "Python 3.10.4 64-bit",
   "language": "python",
   "name": "python3"
  },
  "language_info": {
   "codemirror_mode": {
    "name": "ipython",
    "version": 3
   },
   "file_extension": ".py",
   "mimetype": "text/x-python",
   "name": "python",
   "nbconvert_exporter": "python",
   "pygments_lexer": "ipython3",
   "version": "3.10.4"
  },
  "orig_nbformat": 4
 },
 "nbformat": 4,
 "nbformat_minor": 2
}
